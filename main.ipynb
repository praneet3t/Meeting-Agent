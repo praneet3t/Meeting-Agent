{
 "cells": [
  {
   "cell_type": "code",
   "execution_count": null,
   "id": "33600b3b",
   "metadata": {
    "vscode": {
     "languageId": "plaintext"
    }
   },
   "outputs": [],
   "source": [
    "import torch\n",
    "from transformers import AutoModelForCausalLM, AutoTokenizer\n",
    "import json\n",
    "import os\n",
    "from sqlalchemy import create_engine, Column, Integer, String\n",
    "from sqlalchemy.orm import sessionmaker, declarative_base\n",
    "\n",
    "# --- CONFIGURATION ---\n",
    "# Use a raw string (r\"...\") to handle Windows paths correctly.\n",
    "JSON_TRANSCRIPT_PATH = r\"C:\\Users\\apran\\Videos\\Cin\\LIBRARY\\Meeting Agent\\transcript.json\"\n",
    "MODEL_NAME = \"Qwen/Qwen1.5-0.5B-Chat\""
   ]
  },
  {
   "cell_type": "code",
   "execution_count": null,
   "id": "0b3715d1",
   "metadata": {
    "vscode": {
     "languageId": "plaintext"
    }
   },
   "outputs": [],
   "source": [
    "# --- DATABASE SETUP ---\n",
    "DATABASE_URL = \"sqlite:///tasks.db\"\n",
    "engine = create_engine(DATABASE_URL)\n",
    "SessionLocal = sessionmaker(autocommit=False, autoflush=False, bind=engine)\n",
    "Base = declarative_base()\n",
    "\n",
    "class Task(Base):\n",
    "    __tablename__ = \"tasks\"\n",
    "    id = Column(Integer, primary_key=True, index=True)\n",
    "    description = Column(String, index=True)\n",
    "    assignee = Column(String)\n",
    "    due_date_str = Column(String)\n",
    "    status = Column(String, default=\"To Do\")\n",
    "\n",
    "# Create the table in the database\n",
    "Base.metadata.create_all(bind=engine)\n",
    "print(\"Database and 'tasks' table are ready.\")"
   ]
  },
  {
   "cell_type": "code",
   "execution_count": null,
   "id": "d744e28c",
   "metadata": {
    "vscode": {
     "languageId": "plaintext"
    }
   },
   "outputs": [],
   "source": [
    "def load_transcript_from_json(file_path):\n",
    "    \"\"\"Loads and formats the transcript from your JSON file.\"\"\"\n",
    "    try:\n",
    "        with open(file_path, 'r') as f:\n",
    "            data = json.load(f)\n",
    "        \n",
    "        formatted_transcript = f\"Meeting Title: {data['meeting_title']}\\n\"\n",
    "        formatted_transcript += f\"Date: {data['date']}\\n\"\n",
    "        formatted_transcript += f\"Participants: {', '.join(data['participants'])}\\n\\n\"\n",
    "        \n",
    "        for entry in data['transcript']:\n",
    "            formatted_transcript += f\"{entry['speaker']} ({entry['timestamp']}): {entry['dialogue']}\\n\"\n",
    "            \n",
    "        return formatted_transcript\n",
    "    except Exception as e:\n",
    "        print(f\"Error loading transcript: {e}\")\n",
    "        return None\n",
    "\n",
    "def load_model():\n",
    "    \"\"\"Loads the tokenizer and model from Hugging Face.\"\"\"\n",
    "    print(\"Loading AI model... (This can take a minute)\")\n",
    "    tokenizer = AutoTokenizer.from_pretrained(MODEL_NAME)\n",
    "    model = AutoModelForCausalLM.from_pretrained(\n",
    "        MODEL_NAME,\n",
    "        torch_dtype=torch.float16,\n",
    "        device_map=\"auto\"\n",
    "    )\n",
    "    print(\"✅ Model loaded successfully.\")\n",
    "    return tokenizer, model"
   ]
  },
  {
   "cell_type": "code",
   "execution_count": null,
   "id": "7d6453c8",
   "metadata": {
    "vscode": {
     "languageId": "plaintext"
    }
   },
   "outputs": [],
   "source": [
    "def process_transcript(tokenizer, model, transcript):\n",
    "    \"\"\"Generates MoM and extracts tasks using the LLM.\"\"\"\n",
    "    prompt = f\"\"\"\n",
    "    You are an expert meeting assistant. Analyze the following transcript.\n",
    "    Your tasks are:\n",
    "    1. Generate a concise \"Minutes of Meeting\" summary.\n",
    "    2. Extract all action items into a structured JSON format.\n",
    "\n",
    "    The JSON output must be a single object with a key \"tasks\", which is a list of objects.\n",
    "    Each task object must have three keys: \"task_description\", \"assignee\", and \"due_date\".\n",
    "\n",
    "    Respond with a single JSON object containing \"minutes\" and \"tasks\".\n",
    "\n",
    "    Transcript:\n",
    "    ---\n",
    "    {transcript}\n",
    "    ---\n",
    "    \"\"\"\n",
    "    messages = [\n",
    "        {\"role\": \"system\", \"content\": \"You are a helpful assistant that processes meeting transcripts.\"},\n",
    "        {\"role\": \"user\", \"content\": prompt}\n",
    "    ]\n",
    "    text = tokenizer.apply_chat_template(messages, tokenize=False, add_generation_prompt=True)\n",
    "    model_inputs = tokenizer([text], return_tensors=\"pt\").to(model.device)\n",
    "\n",
    "    generated_ids = model.generate(model_inputs.input_ids, max_new_tokens=512)\n",
    "    generated_ids = [\n",
    "        output_ids[len(input_ids):] for input_ids, output_ids in zip(model_inputs.input_ids, generated_ids)\n",
    "    ]\n",
    "    response = tokenizer.batch_decode(generated_ids, skip_special_tokens=True)[0]\n",
    "    \n",
    "    try:\n",
    "        json_response = json.loads(response[response.find('{'):response.rfind('}')+1])\n",
    "        return json_response\n",
    "    except json.JSONDecodeError:\n",
    "        print(\"Error: Could not decode JSON from the model's response.\")\n",
    "        return None\n",
    "\n",
    "def save_tasks_to_db(tasks):\n",
    "    \"\"\"Saves the extracted tasks into the SQLite database.\"\"\"\n",
    "    db = SessionLocal()\n",
    "    try:\n",
    "        # Clear existing tasks for this run to avoid duplicates\n",
    "        db.query(Task).delete()\n",
    "        db.commit()\n",
    "        \n",
    "        for task_item in tasks:\n",
    "            new_task = Task(\n",
    "                description=task_item.get(\"task_description\"),\n",
    "                assignee=task_item.get(\"assignee\"),\n",
    "                due_date_str=task_item.get(\"due_date\"),\n",
    "            )\n",
    "            db.add(new_task)\n",
    "        db.commit()\n",
    "        print(f\"\\n✅ Successfully saved {len(tasks)} tasks to the database.\")\n",
    "    finally:\n",
    "        db.close()"
   ]
  },
  {
   "cell_type": "code",
   "execution_count": null,
   "id": "4890838d",
   "metadata": {
    "vscode": {
     "languageId": "plaintext"
    }
   },
   "outputs": [],
   "source": [
    "# Load the transcript from the JSON file\n",
    "meeting_transcript = load_transcript_from_json(JSON_TRANSCRIPT_PATH)\n",
    "\n",
    "if meeting_transcript:\n",
    "    # Load the model\n",
    "    tokenizer, model = load_model()\n",
    "    \n",
    "    # Process the transcript\n",
    "    print(\"\\nProcessing transcript with AI...\")\n",
    "    results = process_transcript(tokenizer, model, meeting_transcript)\n",
    "    \n",
    "    if results:\n",
    "        # Display MoM and extracted tasks\n",
    "        print(\"\\n--- Minutes of Meeting ---\")\n",
    "        print(results.get(\"minutes\", \"No summary generated.\"))\n",
    "        \n",
    "        tasks = results.get(\"tasks\", [])\n",
    "        if tasks:\n",
    "            print(\"\\n--- Extracted Action Items ---\")\n",
    "            for task in tasks:\n",
    "                print(f\"- {task}\")\n",
    "            # Save tasks to the database\n",
    "            save_tasks_to_db(tasks)\n",
    "        else:\n",
    "            print(\"\\nNo action items were extracted.\")"
   ]
  },
  {
   "cell_type": "code",
   "execution_count": null,
   "id": "54d3633a",
   "metadata": {
    "vscode": {
     "languageId": "plaintext"
    }
   },
   "outputs": [],
   "source": [
    "# --- Agent Functions (Tools) ---\n",
    "def get_all_tasks():\n",
    "    \"\"\"Retrieves all tasks from the database.\"\"\"\n",
    "    db = SessionLocal()\n",
    "    tasks = db.query(Task).all()\n",
    "    db.close()\n",
    "    if not tasks:\n",
    "        return \"No tasks found in the database.\"\n",
    "    response = \"Here are the current tasks:\\n\"\n",
    "    for task in tasks:\n",
    "        response += f\"- Task: '{task.description}', Assignee: {task.assignee}, Due: {task.due_date_str}, Status: {task.status}\\n\"\n",
    "    return response\n",
    "\n",
    "def update_task_status(task_description, new_status):\n",
    "    \"\"\"Updates the status of a specific task.\"\"\"\n",
    "    db = SessionLocal()\n",
    "    # Use .ilike() for case-insensitive matching\n",
    "    task = db.query(Task).filter(Task.description.ilike(f\"%{task_description}%\")).first()\n",
    "    if task:\n",
    "        task.status = new_status\n",
    "        db.commit()\n",
    "        response = f\"✅ Updated status for task '{task.description}' to '{new_status}'.\"\n",
    "    else:\n",
    "        response = f\"❌ Could not find a task matching '{task_description}'.\"\n",
    "    db.close()\n",
    "    return response\n",
    "\n",
    "# --- Interactive Agent Loop ---\n",
    "print(\"\\n--- 🤖 Task Agent is ready! ---\")\n",
    "print(\"You can now ask about your tasks. Type 'quit' to exit.\")\n",
    "\n",
    "while True:\n",
    "    query = input(\"> \").lower().strip()\n",
    "    if query == 'quit':\n",
    "        break\n",
    "    \n",
    "    # Simple rule-based logic to call the correct tool\n",
    "    if query.startswith(\"update status for\"):\n",
    "        # Example: \"update status for 'budget forecast' to 'In Progress'\"\n",
    "        try:\n",
    "            desc = query.split(\"'\")[1]\n",
    "            status = query.split(\"'\")[3]\n",
    "            print(update_task_status(desc, status))\n",
    "        except IndexError:\n",
    "            print(\"Please use the format: update status for 'task description' to 'new status'\")\n",
    "    elif query in [\"what are the tasks\", \"show all tasks\", \"list tasks\"]:\n",
    "        print(get_all_tasks())\n",
    "    else:\n",
    "        print(\"Sorry, I can't do that. Try 'show all tasks' or 'update status for ... to ...'.\")"
   ]
  }
 ],
 "metadata": {
  "language_info": {
   "name": "python"
  }
 },
 "nbformat": 4,
 "nbformat_minor": 5
}
